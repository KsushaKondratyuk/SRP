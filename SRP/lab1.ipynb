{
 "metadata": {
  "name": "",
  "signature": "sha256:e5eb300a8e7fa03f05071ba1ae05e8683ce53437b8e46717bf1556642b531c5c"
 },
 "nbformat": 3,
 "nbformat_minor": 0,
 "worksheets": [
  {
   "cells": [
    {
     "cell_type": "code",
     "collapsed": false,
     "input": [
      "import  urllib2\n",
      "URL=\"http://www.star.nesdis.noaa.gov/smcd/emb/vci/gvix/G04/ts_L1/ByProvince/Mean/L1_Mean_UKR.R%02d.txt\"\n",
      "mass=[1,2,3,4,5,6,7,8,9,10,11,12,13,14,15,16,17,18,19,20,21,22,23,24,25]\n",
      "mass2=[22,24,23,25,3,4,8,19,20,21,9,10,11,12,13,14,15,16,17,18,6,1,2,7,5]\n",
      "def func2(index2):\n",
      "    return mass2.index(index2)\n",
      "\n",
      "    \n",
      "for index in mass:\n",
      "    url=URL%index\n",
      "    vhi_url = urllib2.urlopen(url)#\u042d\u0442\u0430 \u0444\u0443\u043d\u043a\u0446\u0438\u044f \u0441\u043f\u043e\u0441\u043e\u0431\u043d\u0430 \u0438\u0437\u0432\u043b\u0435\u0447\u044c URL-\u0430\u0434\u0440\u0435\u0441 \u0441 \u043f\u043e\u043c\u043e\u0449\u044c\u044e \u0440\u0430\u0437\u043b\u0438\u0447\u043d\u044b\u0445 \u043f\u0440\u043e\u0442\u043e\u043a\u043e\u043b\u043e\u0432\n",
      "    out = open('vhi_id_%02d.csv'%index,'wb')# \u043e\u0442\u043a\u0440\u043e\u0435\u043c \u0444\u0430\u0439\u043b \u043d\u0430 \u0434\u0432\u043e\u0438\u0447\u043d\u0438\u0439 \u0437\u0430\u043f\u0438\u0441\u044c\n",
      "    out.write(vhi_url.read())# \u0447\u0438\u0442\u0430\u0435\u043c URL \u0438 \u0437\u0430\u043f\u0438\u0441\u044b\u0432\u0430\u0435\u043c \u0432 \u043b\u043e\u043a\u0430\u043b\u044c\u043d\u044b\u0439 \u0444\u0430\u0439\u043b\n",
      "    out.close()\n",
      "print \"VHI is downloaded...\"\n",
      "\n"
     ],
     "language": "python",
     "metadata": {},
     "outputs": [
      {
       "output_type": "stream",
       "stream": "stdout",
       "text": [
        "VHI is downloaded...\n"
       ]
      }
     ],
     "prompt_number": 63
    },
    {
     "cell_type": "code",
     "collapsed": false,
     "input": [
      "def clear(index8):\n",
      "    return index8.loc[index8['VHI']>0]"
     ],
     "language": "python",
     "metadata": {},
     "outputs": [],
     "prompt_number": 91
    },
    {
     "cell_type": "code",
     "collapsed": false,
     "input": [
      "import  urllib2\n",
      "import pandas as pd\n",
      "\n",
      "def func(index3):\n",
      "        return clear(pd.read_csv('vhi_id_%02d.csv'%index3,header=1,names=['Year','Week','SMN','SMT','VCI','TCI','VHI','VHI<15','VHI<35']))"
     ],
     "language": "python",
     "metadata": {},
     "outputs": [],
     "prompt_number": 92
    },
    {
     "cell_type": "code",
     "collapsed": false,
     "input": [
      "#print func(1)"
     ],
     "language": "python",
     "metadata": {},
     "outputs": [],
     "prompt_number": 96
    },
    {
     "cell_type": "code",
     "collapsed": false,
     "input": [
      "def Year(index4,year):\n",
      "    return index4.loc[index4['Year']==year]"
     ],
     "language": "python",
     "metadata": {},
     "outputs": [],
     "prompt_number": 1
    },
    {
     "cell_type": "code",
     "collapsed": false,
     "input": [
      "#print Year(func(10),1985)"
     ],
     "language": "python",
     "metadata": {},
     "outputs": [],
     "prompt_number": 2
    },
    {
     "cell_type": "code",
     "collapsed": false,
     "input": [
      "def func_min(index5,year,VHI):\n",
      "    return index5.loc[[Year(index5,year)[VHI].idxmin()]][VHI]"
     ],
     "language": "python",
     "metadata": {},
     "outputs": [],
     "prompt_number": 3
    },
    {
     "cell_type": "code",
     "collapsed": false,
     "input": [
      "#print func_min(func(10),1997,'VHI')"
     ],
     "language": "python",
     "metadata": {},
     "outputs": [],
     "prompt_number": 4
    },
    {
     "cell_type": "code",
     "collapsed": false,
     "input": [
      "def func_max(index6,year,VHI):\n",
      "    return index6.loc[[Year(index6,year)[VHI].idxmax()]][VHI]"
     ],
     "language": "python",
     "metadata": {},
     "outputs": [],
     "prompt_number": 5
    },
    {
     "cell_type": "code",
     "collapsed": false,
     "input": [
      "#print func_max(func(10),1997,'VHI')"
     ],
     "language": "python",
     "metadata": {},
     "outputs": [],
     "prompt_number": 42
    },
    {
     "cell_type": "code",
     "collapsed": false,
     "input": [
      "def extremal1(index7,procent):\n",
      "    return index7.loc[index7['VHI<15']>procent]['Year']"
     ],
     "language": "python",
     "metadata": {},
     "outputs": [],
     "prompt_number": 43
    },
    {
     "cell_type": "code",
     "collapsed": false,
     "input": [
      "#print extremal1(func(16),30)"
     ],
     "language": "python",
     "metadata": {},
     "outputs": [],
     "prompt_number": 44
    },
    {
     "cell_type": "code",
     "collapsed": false,
     "input": [
      "def extremal2(index7,procent):\n",
      "    return index7.loc[index7['VHI<35']>procent]['Year']\n"
     ],
     "language": "python",
     "metadata": {},
     "outputs": [],
     "prompt_number": 45
    },
    {
     "cell_type": "code",
     "collapsed": false,
     "input": [
      "#print extremal2(func(16),30)"
     ],
     "language": "python",
     "metadata": {},
     "outputs": [],
     "prompt_number": 48
    },
    {
     "cell_type": "code",
     "collapsed": false,
     "input": [],
     "language": "python",
     "metadata": {},
     "outputs": []
    }
   ],
   "metadata": {}
  }
 ]
}